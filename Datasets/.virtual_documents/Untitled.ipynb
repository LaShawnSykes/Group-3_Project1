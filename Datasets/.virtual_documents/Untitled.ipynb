# Importing necessary libraries
import pandas as pd
import seaborn as sns
import matplotlib.pyplot as plt
from IPython.display import display



# Load the datasets
data_t1dm = pd.read_excel('Shanghai_T1DM_Summary.xlsx')
data_t2dm = pd.read_excel('Shanghai_T2DM_Summary.xlsx')



data_t2dm


display(data_t1dm)


#Get information about dataset 1
data_t1dm.info


#Get information about dataset 2
data_t2dm.info





# Data cleaning and preprocessing for Type 1 Diabetes dataset
# Assuming similar data cleaning steps as mentioned in the previous response
df1.fillna(df1.mean(),inplace=True)
df1.drop_duplicates(inplace=True)
# Additional data cleaning steps specific to Type 1 Diabetes dataset if necessary



# Compare the data in the two DataFrames
df1 = data_t1dm
df2 = data_t2dm

data_equal = df1.equals(df2)
if data_equal:
    print("The data in the DataFrames is the same.")
else:
    print("The data in the DataFrames is different.")



