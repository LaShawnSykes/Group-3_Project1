{
 "cells": [
  {
   "cell_type": "code",
   "execution_count": 1,
   "id": "159b0628-76e7-40f9-a6a9-135642fb2412",
   "metadata": {},
   "outputs": [],
   "source": [
    "# Importing necessary libraries\n",
    "import pandas as pd\n",
    "import seaborn as sns\n",
    "import matplotlib.pyplot as plt\n"
   ]
  },
  {
   "cell_type": "code",
   "execution_count": 7,
   "id": "103f40af-97aa-435b-b587-d1541875bfbf",
   "metadata": {},
   "outputs": [
    {
     "ename": "NameError",
     "evalue": "name 'Datasets' is not defined",
     "output_type": "error",
     "traceback": [
      "\u001b[1;31m---------------------------------------------------------------------------\u001b[0m",
      "\u001b[1;31mNameError\u001b[0m                                 Traceback (most recent call last)",
      "Cell \u001b[1;32mIn[7], line 2\u001b[0m\n\u001b[0;32m      1\u001b[0m \u001b[38;5;66;03m# Load the datasets\u001b[39;00m\n\u001b[1;32m----> 2\u001b[0m data_t1dm \u001b[38;5;241m=\u001b[39m pd\u001b[38;5;241m.\u001b[39mread_csv(Datasets\u001b[38;5;241m/\u001b[39mShanghai_T1DM_Summary\u001b[38;5;241m.\u001b[39mxlsx)\n\u001b[0;32m      3\u001b[0m data_t2dm \u001b[38;5;241m=\u001b[39m pd\u001b[38;5;241m.\u001b[39mread_csv(Datasets\u001b[38;5;241m/\u001b[39mShanghai_T2DM_Summary\u001b[38;5;241m.\u001b[39mxlsx)\n",
      "\u001b[1;31mNameError\u001b[0m: name 'Datasets' is not defined"
     ]
    }
   ],
   "source": [
    "# Load the datasets\n",
    "data_t1dm = pd.read_csv(Datasets/Shanghai_T1DM_Summary.xlsx)\n",
    "data_t2dm = pd.read_csv(Datasets/Shanghai_T2DM_Summary.xlsx)\n"
   ]
  },
  {
   "cell_type": "code",
   "execution_count": null,
   "id": "89592141-43fe-47c4-aedb-d401cf3da7c9",
   "metadata": {},
   "outputs": [],
   "source": []
  }
 ],
 "metadata": {
  "kernelspec": {
   "display_name": "Python 3 (ipykernel)",
   "language": "python",
   "name": "python3"
  },
  "language_info": {
   "codemirror_mode": {
    "name": "ipython",
    "version": 3
   },
   "file_extension": ".py",
   "mimetype": "text/x-python",
   "name": "python",
   "nbconvert_exporter": "python",
   "pygments_lexer": "ipython3",
   "version": "3.11.5"
  },
  "widgets": {
   "application/vnd.jupyter.widget-state+json": {
    "state": {},
    "version_major": 2,
    "version_minor": 0
   }
  }
 },
 "nbformat": 4,
 "nbformat_minor": 5
}
